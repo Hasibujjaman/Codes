{
 "cells": [
  {
   "cell_type": "code",
   "execution_count": 80,
   "id": "aa2459bd-9527-4634-9199-017a459da268",
   "metadata": {},
   "outputs": [],
   "source": [
    "import numpy as np"
   ]
  },
  {
   "cell_type": "code",
   "execution_count": 81,
   "id": "74e606ea-564e-4f7f-8d4c-dfd27716f0e1",
   "metadata": {},
   "outputs": [
    {
     "name": "stdout",
     "output_type": "stream",
     "text": [
      "[0. 0. 0. 0. 0.]\n",
      "(5,)\n",
      "['a' 'b' 'c']\n",
      "(3,)\n"
     ]
    }
   ],
   "source": [
    "z = np.zeros(5)\n",
    "a = np.array(['a','b','c'])\n",
    "print(z)\n",
    "print(z.shape)\n",
    "print(a)\n",
    "print(a.shape)"
   ]
  },
  {
   "cell_type": "markdown",
   "id": "eab6125f-f40e-4e6d-85c5-2706827cccca",
   "metadata": {},
   "source": [
    "print(a[:1])\n",
    "\n",
    "b = np.array([9,18,27])\n",
    "c = np.array([1,2,3])\n",
    "print(b + c)"
   ]
  },
  {
   "cell_type": "markdown",
   "id": "eb547379-693d-4de2-b4fe-21aa9469bbbb",
   "metadata": {},
   "source": [
    "# pandas\n",
    "\n"
   ]
  },
  {
   "cell_type": "code",
   "execution_count": 82,
   "id": "78d13317-fce2-46d8-ae33-c03e59814bf1",
   "metadata": {},
   "outputs": [],
   "source": [
    "import pandas as pd\n"
   ]
  },
  {
   "cell_type": "code",
   "execution_count": 83,
   "id": "3c906480-292f-46d7-96c3-b0b13894e792",
   "metadata": {},
   "outputs": [
    {
     "name": "stdout",
     "output_type": "stream",
     "text": [
      "0    10\n",
      "1    20\n",
      "2    30\n",
      "dtype: int64\n",
      "(3,)\n",
      "A    10\n",
      "B    20\n",
      "C    30\n",
      "dtype: int64\n",
      "(3,)\n"
     ]
    }
   ],
   "source": [
    "data = [10,20,30]\n",
    "series = pd.Series(data)\n",
    "print(series)\n",
    "print(series.shape)\n",
    "\n",
    "series = pd.Series(data, index=['A', 'B', 'C'])\n",
    "print(series)\n",
    "print(series.shape)"
   ]
  },
  {
   "cell_type": "code",
   "execution_count": 84,
   "id": "78f5fabd-b71d-4ef4-85e0-ddceddafce2b",
   "metadata": {},
   "outputs": [
    {
     "name": "stdout",
     "output_type": "stream",
     "text": [
      "    Name  Age\n",
      "0   Anan   20\n",
      "1  Jamal   15\n",
      "2  Damal   30\n",
      "(3, 2)\n"
     ]
    }
   ],
   "source": [
    "data2 = {\n",
    "    \"Name\" : [\"Anan\",\"Jamal\",\"Damal\"],\n",
    "    \"Age\" : [20, 15, 30]\n",
    "}\n",
    "df = pd.DataFrame(data2)\n",
    "print(df)\n",
    "print(df.shape)"
   ]
  },
  {
   "cell_type": "code",
   "execution_count": 85,
   "id": "f1834a51-42b1-4ff4-80cc-dd62ad48c8a6",
   "metadata": {},
   "outputs": [
    {
     "data": {
      "text/html": [
       "<div>\n",
       "<style scoped>\n",
       "    .dataframe tbody tr th:only-of-type {\n",
       "        vertical-align: middle;\n",
       "    }\n",
       "\n",
       "    .dataframe tbody tr th {\n",
       "        vertical-align: top;\n",
       "    }\n",
       "\n",
       "    .dataframe thead th {\n",
       "        text-align: right;\n",
       "    }\n",
       "</style>\n",
       "<table border=\"1\" class=\"dataframe\">\n",
       "  <thead>\n",
       "    <tr style=\"text-align: right;\">\n",
       "      <th></th>\n",
       "      <th>Name</th>\n",
       "      <th>Age</th>\n",
       "    </tr>\n",
       "  </thead>\n",
       "  <tbody>\n",
       "    <tr>\n",
       "      <th>0</th>\n",
       "      <td>Anan</td>\n",
       "      <td>20</td>\n",
       "    </tr>\n",
       "    <tr>\n",
       "      <th>1</th>\n",
       "      <td>Jamal</td>\n",
       "      <td>15</td>\n",
       "    </tr>\n",
       "    <tr>\n",
       "      <th>2</th>\n",
       "      <td>Damal</td>\n",
       "      <td>30</td>\n",
       "    </tr>\n",
       "  </tbody>\n",
       "</table>\n",
       "</div>"
      ],
      "text/plain": [
       "    Name  Age\n",
       "0   Anan   20\n",
       "1  Jamal   15\n",
       "2  Damal   30"
      ]
     },
     "execution_count": 85,
     "metadata": {},
     "output_type": "execute_result"
    }
   ],
   "source": [
    "df.head()"
   ]
  },
  {
   "cell_type": "markdown",
   "id": "8722d352-ef49-40bb-b2cb-771a035c0436",
   "metadata": {},
   "source": [
    "## Exercise\n"
   ]
  },
  {
   "cell_type": "code",
   "execution_count": 86,
   "id": "c121dbc1-b88f-43dc-b229-25add2955354",
   "metadata": {},
   "outputs": [
    {
     "name": "stdout",
     "output_type": "stream",
     "text": [
      "    Name  Age    Income  IsStudent    Buy\n",
      "0   Anan   20      HIGH       True  False\n",
      "1  Jamal   25       LOW      False  False\n",
      "2  Damal   30      HIGH      False   True\n",
      "3  Pamal   40  MODERATE      False  False\n",
      "4  Somal   50  MODERATE      False  False\n",
      "5  Tomal   60       LOW      False  False\n",
      "6  Zomal   15      HIGH       True   True\n"
     ]
    }
   ],
   "source": [
    "data3 = {\n",
    "    \"Name\" : [\"Anan\", \"Jamal\", \"Damal\", \"Pamal\", \"Somal\", \"Tomal\", \"Zomal\"],\n",
    "    \"Age\" : [20, 25, 30, 40, 50, 60, 15],\n",
    "    \"Income\" : [\"HIGH\", \"LOW\", \"HIGH\", \"MODERATE\", \"MODERATE\", \"LOW\", \"HIGH\"],\n",
    "    \"IsStudent\" : [True, False, False, False, False, False, True],\n",
    "    \"Buy\" :       [False, False, True, False, False, False, True]\n",
    "}\n",
    "\n",
    "df = pd.DataFrame(data3)\n",
    "print(df)"
   ]
  },
  {
   "cell_type": "code",
   "execution_count": 87,
   "id": "ea7e013e-22b2-41e1-b951-f7508ace978f",
   "metadata": {},
   "outputs": [
    {
     "data": {
      "text/html": [
       "<div>\n",
       "<style scoped>\n",
       "    .dataframe tbody tr th:only-of-type {\n",
       "        vertical-align: middle;\n",
       "    }\n",
       "\n",
       "    .dataframe tbody tr th {\n",
       "        vertical-align: top;\n",
       "    }\n",
       "\n",
       "    .dataframe thead th {\n",
       "        text-align: right;\n",
       "    }\n",
       "</style>\n",
       "<table border=\"1\" class=\"dataframe\">\n",
       "  <thead>\n",
       "    <tr style=\"text-align: right;\">\n",
       "      <th></th>\n",
       "      <th>Name</th>\n",
       "      <th>Age</th>\n",
       "      <th>Income</th>\n",
       "      <th>IsStudent</th>\n",
       "      <th>Buy</th>\n",
       "    </tr>\n",
       "  </thead>\n",
       "  <tbody>\n",
       "    <tr>\n",
       "      <th>0</th>\n",
       "      <td>Anan</td>\n",
       "      <td>20</td>\n",
       "      <td>HIGH</td>\n",
       "      <td>True</td>\n",
       "      <td>False</td>\n",
       "    </tr>\n",
       "    <tr>\n",
       "      <th>1</th>\n",
       "      <td>Jamal</td>\n",
       "      <td>25</td>\n",
       "      <td>LOW</td>\n",
       "      <td>False</td>\n",
       "      <td>False</td>\n",
       "    </tr>\n",
       "    <tr>\n",
       "      <th>2</th>\n",
       "      <td>Damal</td>\n",
       "      <td>30</td>\n",
       "      <td>HIGH</td>\n",
       "      <td>False</td>\n",
       "      <td>True</td>\n",
       "    </tr>\n",
       "    <tr>\n",
       "      <th>3</th>\n",
       "      <td>Pamal</td>\n",
       "      <td>40</td>\n",
       "      <td>MODERATE</td>\n",
       "      <td>False</td>\n",
       "      <td>False</td>\n",
       "    </tr>\n",
       "    <tr>\n",
       "      <th>4</th>\n",
       "      <td>Somal</td>\n",
       "      <td>50</td>\n",
       "      <td>MODERATE</td>\n",
       "      <td>False</td>\n",
       "      <td>False</td>\n",
       "    </tr>\n",
       "  </tbody>\n",
       "</table>\n",
       "</div>"
      ],
      "text/plain": [
       "    Name  Age    Income  IsStudent    Buy\n",
       "0   Anan   20      HIGH       True  False\n",
       "1  Jamal   25       LOW      False  False\n",
       "2  Damal   30      HIGH      False   True\n",
       "3  Pamal   40  MODERATE      False  False\n",
       "4  Somal   50  MODERATE      False  False"
      ]
     },
     "execution_count": 87,
     "metadata": {},
     "output_type": "execute_result"
    }
   ],
   "source": [
    "df.head()"
   ]
  },
  {
   "cell_type": "code",
   "execution_count": 88,
   "id": "7d40ab19-fe58-4aa1-b3b5-18dd0e0985d3",
   "metadata": {},
   "outputs": [
    {
     "data": {
      "text/html": [
       "<div>\n",
       "<style scoped>\n",
       "    .dataframe tbody tr th:only-of-type {\n",
       "        vertical-align: middle;\n",
       "    }\n",
       "\n",
       "    .dataframe tbody tr th {\n",
       "        vertical-align: top;\n",
       "    }\n",
       "\n",
       "    .dataframe thead th {\n",
       "        text-align: right;\n",
       "    }\n",
       "</style>\n",
       "<table border=\"1\" class=\"dataframe\">\n",
       "  <thead>\n",
       "    <tr style=\"text-align: right;\">\n",
       "      <th></th>\n",
       "      <th>Name</th>\n",
       "      <th>Age</th>\n",
       "      <th>Income</th>\n",
       "      <th>IsStudent</th>\n",
       "      <th>Buy</th>\n",
       "    </tr>\n",
       "  </thead>\n",
       "  <tbody>\n",
       "    <tr>\n",
       "      <th>2</th>\n",
       "      <td>Damal</td>\n",
       "      <td>30</td>\n",
       "      <td>HIGH</td>\n",
       "      <td>False</td>\n",
       "      <td>True</td>\n",
       "    </tr>\n",
       "    <tr>\n",
       "      <th>3</th>\n",
       "      <td>Pamal</td>\n",
       "      <td>40</td>\n",
       "      <td>MODERATE</td>\n",
       "      <td>False</td>\n",
       "      <td>False</td>\n",
       "    </tr>\n",
       "    <tr>\n",
       "      <th>4</th>\n",
       "      <td>Somal</td>\n",
       "      <td>50</td>\n",
       "      <td>MODERATE</td>\n",
       "      <td>False</td>\n",
       "      <td>False</td>\n",
       "    </tr>\n",
       "    <tr>\n",
       "      <th>5</th>\n",
       "      <td>Tomal</td>\n",
       "      <td>60</td>\n",
       "      <td>LOW</td>\n",
       "      <td>False</td>\n",
       "      <td>False</td>\n",
       "    </tr>\n",
       "    <tr>\n",
       "      <th>6</th>\n",
       "      <td>Zomal</td>\n",
       "      <td>15</td>\n",
       "      <td>HIGH</td>\n",
       "      <td>True</td>\n",
       "      <td>True</td>\n",
       "    </tr>\n",
       "  </tbody>\n",
       "</table>\n",
       "</div>"
      ],
      "text/plain": [
       "    Name  Age    Income  IsStudent    Buy\n",
       "2  Damal   30      HIGH      False   True\n",
       "3  Pamal   40  MODERATE      False  False\n",
       "4  Somal   50  MODERATE      False  False\n",
       "5  Tomal   60       LOW      False  False\n",
       "6  Zomal   15      HIGH       True   True"
      ]
     },
     "execution_count": 88,
     "metadata": {},
     "output_type": "execute_result"
    }
   ],
   "source": [
    "df.tail()"
   ]
  },
  {
   "cell_type": "code",
   "execution_count": 89,
   "id": "e3c73634-ecdb-4cb4-b1e5-bcc3e13f3495",
   "metadata": {},
   "outputs": [
    {
     "data": {
      "text/html": [
       "<div>\n",
       "<style scoped>\n",
       "    .dataframe tbody tr th:only-of-type {\n",
       "        vertical-align: middle;\n",
       "    }\n",
       "\n",
       "    .dataframe tbody tr th {\n",
       "        vertical-align: top;\n",
       "    }\n",
       "\n",
       "    .dataframe thead th {\n",
       "        text-align: right;\n",
       "    }\n",
       "</style>\n",
       "<table border=\"1\" class=\"dataframe\">\n",
       "  <thead>\n",
       "    <tr style=\"text-align: right;\">\n",
       "      <th></th>\n",
       "      <th>Age</th>\n",
       "    </tr>\n",
       "  </thead>\n",
       "  <tbody>\n",
       "    <tr>\n",
       "      <th>count</th>\n",
       "      <td>7.000000</td>\n",
       "    </tr>\n",
       "    <tr>\n",
       "      <th>mean</th>\n",
       "      <td>34.285714</td>\n",
       "    </tr>\n",
       "    <tr>\n",
       "      <th>std</th>\n",
       "      <td>16.438920</td>\n",
       "    </tr>\n",
       "    <tr>\n",
       "      <th>min</th>\n",
       "      <td>15.000000</td>\n",
       "    </tr>\n",
       "    <tr>\n",
       "      <th>25%</th>\n",
       "      <td>22.500000</td>\n",
       "    </tr>\n",
       "    <tr>\n",
       "      <th>50%</th>\n",
       "      <td>30.000000</td>\n",
       "    </tr>\n",
       "    <tr>\n",
       "      <th>75%</th>\n",
       "      <td>45.000000</td>\n",
       "    </tr>\n",
       "    <tr>\n",
       "      <th>max</th>\n",
       "      <td>60.000000</td>\n",
       "    </tr>\n",
       "  </tbody>\n",
       "</table>\n",
       "</div>"
      ],
      "text/plain": [
       "             Age\n",
       "count   7.000000\n",
       "mean   34.285714\n",
       "std    16.438920\n",
       "min    15.000000\n",
       "25%    22.500000\n",
       "50%    30.000000\n",
       "75%    45.000000\n",
       "max    60.000000"
      ]
     },
     "execution_count": 89,
     "metadata": {},
     "output_type": "execute_result"
    }
   ],
   "source": [
    "df.describe()"
   ]
  },
  {
   "cell_type": "code",
   "execution_count": 90,
   "id": "d8fba149-f234-48b5-954a-22a0160298f0",
   "metadata": {},
   "outputs": [
    {
     "data": {
      "text/plain": [
       "0     Anan\n",
       "1    Jamal\n",
       "2    Damal\n",
       "3    Pamal\n",
       "4    Somal\n",
       "5    Tomal\n",
       "6    Zomal\n",
       "Name: Name, dtype: object"
      ]
     },
     "execution_count": 90,
     "metadata": {},
     "output_type": "execute_result"
    }
   ],
   "source": [
    "df[\"Name\"]"
   ]
  },
  {
   "cell_type": "code",
   "execution_count": 91,
   "id": "03d643ca-d29b-43c8-993a-a4e25fd35b5f",
   "metadata": {},
   "outputs": [
    {
     "data": {
      "text/html": [
       "<div>\n",
       "<style scoped>\n",
       "    .dataframe tbody tr th:only-of-type {\n",
       "        vertical-align: middle;\n",
       "    }\n",
       "\n",
       "    .dataframe tbody tr th {\n",
       "        vertical-align: top;\n",
       "    }\n",
       "\n",
       "    .dataframe thead th {\n",
       "        text-align: right;\n",
       "    }\n",
       "</style>\n",
       "<table border=\"1\" class=\"dataframe\">\n",
       "  <thead>\n",
       "    <tr style=\"text-align: right;\">\n",
       "      <th></th>\n",
       "      <th>Name</th>\n",
       "      <th>Age</th>\n",
       "      <th>Income</th>\n",
       "      <th>IsStudent</th>\n",
       "      <th>Buy</th>\n",
       "    </tr>\n",
       "  </thead>\n",
       "  <tbody>\n",
       "    <tr>\n",
       "      <th>2</th>\n",
       "      <td>Damal</td>\n",
       "      <td>30</td>\n",
       "      <td>HIGH</td>\n",
       "      <td>False</td>\n",
       "      <td>True</td>\n",
       "    </tr>\n",
       "    <tr>\n",
       "      <th>3</th>\n",
       "      <td>Pamal</td>\n",
       "      <td>40</td>\n",
       "      <td>MODERATE</td>\n",
       "      <td>False</td>\n",
       "      <td>False</td>\n",
       "    </tr>\n",
       "    <tr>\n",
       "      <th>4</th>\n",
       "      <td>Somal</td>\n",
       "      <td>50</td>\n",
       "      <td>MODERATE</td>\n",
       "      <td>False</td>\n",
       "      <td>False</td>\n",
       "    </tr>\n",
       "    <tr>\n",
       "      <th>5</th>\n",
       "      <td>Tomal</td>\n",
       "      <td>60</td>\n",
       "      <td>LOW</td>\n",
       "      <td>False</td>\n",
       "      <td>False</td>\n",
       "    </tr>\n",
       "  </tbody>\n",
       "</table>\n",
       "</div>"
      ],
      "text/plain": [
       "    Name  Age    Income  IsStudent    Buy\n",
       "2  Damal   30      HIGH      False   True\n",
       "3  Pamal   40  MODERATE      False  False\n",
       "4  Somal   50  MODERATE      False  False\n",
       "5  Tomal   60       LOW      False  False"
      ]
     },
     "execution_count": 91,
     "metadata": {},
     "output_type": "execute_result"
    }
   ],
   "source": [
    "df[df[\"Age\"] > 25]"
   ]
  },
  {
   "cell_type": "code",
   "execution_count": 92,
   "id": "8beb5b53-517f-475d-a00e-79ae3df6fd50",
   "metadata": {},
   "outputs": [
    {
     "data": {
      "text/html": [
       "<div>\n",
       "<style scoped>\n",
       "    .dataframe tbody tr th:only-of-type {\n",
       "        vertical-align: middle;\n",
       "    }\n",
       "\n",
       "    .dataframe tbody tr th {\n",
       "        vertical-align: top;\n",
       "    }\n",
       "\n",
       "    .dataframe thead th {\n",
       "        text-align: right;\n",
       "    }\n",
       "</style>\n",
       "<table border=\"1\" class=\"dataframe\">\n",
       "  <thead>\n",
       "    <tr style=\"text-align: right;\">\n",
       "      <th></th>\n",
       "      <th>Name</th>\n",
       "      <th>Age</th>\n",
       "      <th>Income</th>\n",
       "      <th>IsStudent</th>\n",
       "      <th>Buy</th>\n",
       "    </tr>\n",
       "  </thead>\n",
       "  <tbody>\n",
       "    <tr>\n",
       "      <th>2</th>\n",
       "      <td>Damal</td>\n",
       "      <td>30</td>\n",
       "      <td>HIGH</td>\n",
       "      <td>False</td>\n",
       "      <td>True</td>\n",
       "    </tr>\n",
       "    <tr>\n",
       "      <th>3</th>\n",
       "      <td>Pamal</td>\n",
       "      <td>40</td>\n",
       "      <td>MODERATE</td>\n",
       "      <td>False</td>\n",
       "      <td>False</td>\n",
       "    </tr>\n",
       "    <tr>\n",
       "      <th>4</th>\n",
       "      <td>Somal</td>\n",
       "      <td>50</td>\n",
       "      <td>MODERATE</td>\n",
       "      <td>False</td>\n",
       "      <td>False</td>\n",
       "    </tr>\n",
       "    <tr>\n",
       "      <th>5</th>\n",
       "      <td>Tomal</td>\n",
       "      <td>60</td>\n",
       "      <td>LOW</td>\n",
       "      <td>False</td>\n",
       "      <td>False</td>\n",
       "    </tr>\n",
       "  </tbody>\n",
       "</table>\n",
       "</div>"
      ],
      "text/plain": [
       "    Name  Age    Income  IsStudent    Buy\n",
       "2  Damal   30      HIGH      False   True\n",
       "3  Pamal   40  MODERATE      False  False\n",
       "4  Somal   50  MODERATE      False  False\n",
       "5  Tomal   60       LOW      False  False"
      ]
     },
     "execution_count": 92,
     "metadata": {},
     "output_type": "execute_result"
    }
   ],
   "source": [
    "df.query(\"Age > 25 and IsStudent == False\")"
   ]
  },
  {
   "cell_type": "code",
   "execution_count": 93,
   "id": "cb630d54-7934-4cbc-8d4a-d85cfe77b85d",
   "metadata": {},
   "outputs": [
    {
     "data": {
      "text/html": [
       "<div>\n",
       "<style scoped>\n",
       "    .dataframe tbody tr th:only-of-type {\n",
       "        vertical-align: middle;\n",
       "    }\n",
       "\n",
       "    .dataframe tbody tr th {\n",
       "        vertical-align: top;\n",
       "    }\n",
       "\n",
       "    .dataframe thead th {\n",
       "        text-align: right;\n",
       "    }\n",
       "</style>\n",
       "<table border=\"1\" class=\"dataframe\">\n",
       "  <thead>\n",
       "    <tr style=\"text-align: right;\">\n",
       "      <th></th>\n",
       "      <th>Name</th>\n",
       "      <th>Age</th>\n",
       "      <th>Income</th>\n",
       "      <th>IsStudent</th>\n",
       "      <th>Buy</th>\n",
       "    </tr>\n",
       "  </thead>\n",
       "  <tbody>\n",
       "    <tr>\n",
       "      <th>5</th>\n",
       "      <td>Tomal</td>\n",
       "      <td>60</td>\n",
       "      <td>LOW</td>\n",
       "      <td>False</td>\n",
       "      <td>False</td>\n",
       "    </tr>\n",
       "    <tr>\n",
       "      <th>4</th>\n",
       "      <td>Somal</td>\n",
       "      <td>50</td>\n",
       "      <td>MODERATE</td>\n",
       "      <td>False</td>\n",
       "      <td>False</td>\n",
       "    </tr>\n",
       "    <tr>\n",
       "      <th>3</th>\n",
       "      <td>Pamal</td>\n",
       "      <td>40</td>\n",
       "      <td>MODERATE</td>\n",
       "      <td>False</td>\n",
       "      <td>False</td>\n",
       "    </tr>\n",
       "    <tr>\n",
       "      <th>2</th>\n",
       "      <td>Damal</td>\n",
       "      <td>30</td>\n",
       "      <td>HIGH</td>\n",
       "      <td>False</td>\n",
       "      <td>True</td>\n",
       "    </tr>\n",
       "    <tr>\n",
       "      <th>1</th>\n",
       "      <td>Jamal</td>\n",
       "      <td>25</td>\n",
       "      <td>LOW</td>\n",
       "      <td>False</td>\n",
       "      <td>False</td>\n",
       "    </tr>\n",
       "    <tr>\n",
       "      <th>0</th>\n",
       "      <td>Anan</td>\n",
       "      <td>20</td>\n",
       "      <td>HIGH</td>\n",
       "      <td>True</td>\n",
       "      <td>False</td>\n",
       "    </tr>\n",
       "    <tr>\n",
       "      <th>6</th>\n",
       "      <td>Zomal</td>\n",
       "      <td>15</td>\n",
       "      <td>HIGH</td>\n",
       "      <td>True</td>\n",
       "      <td>True</td>\n",
       "    </tr>\n",
       "  </tbody>\n",
       "</table>\n",
       "</div>"
      ],
      "text/plain": [
       "    Name  Age    Income  IsStudent    Buy\n",
       "5  Tomal   60       LOW      False  False\n",
       "4  Somal   50  MODERATE      False  False\n",
       "3  Pamal   40  MODERATE      False  False\n",
       "2  Damal   30      HIGH      False   True\n",
       "1  Jamal   25       LOW      False  False\n",
       "0   Anan   20      HIGH       True  False\n",
       "6  Zomal   15      HIGH       True   True"
      ]
     },
     "execution_count": 93,
     "metadata": {},
     "output_type": "execute_result"
    }
   ],
   "source": [
    "df.sort_values(\"Age\", ascending=False)"
   ]
  },
  {
   "cell_type": "code",
   "execution_count": 94,
   "id": "42bd3304-49e7-4ad1-a8f1-66fbac6b1cb0",
   "metadata": {},
   "outputs": [],
   "source": [
    "df[\"Salary($)\"] = [100, 2000, 10, 0, 300, 40, 3000]"
   ]
  },
  {
   "cell_type": "code",
   "execution_count": 95,
   "id": "9cb95e11-8305-44a7-9980-6b1d1b6ac44a",
   "metadata": {},
   "outputs": [
    {
     "data": {
      "text/html": [
       "<div>\n",
       "<style scoped>\n",
       "    .dataframe tbody tr th:only-of-type {\n",
       "        vertical-align: middle;\n",
       "    }\n",
       "\n",
       "    .dataframe tbody tr th {\n",
       "        vertical-align: top;\n",
       "    }\n",
       "\n",
       "    .dataframe thead th {\n",
       "        text-align: right;\n",
       "    }\n",
       "</style>\n",
       "<table border=\"1\" class=\"dataframe\">\n",
       "  <thead>\n",
       "    <tr style=\"text-align: right;\">\n",
       "      <th></th>\n",
       "      <th>Name</th>\n",
       "      <th>Age</th>\n",
       "      <th>Income</th>\n",
       "      <th>IsStudent</th>\n",
       "      <th>Buy</th>\n",
       "      <th>Salary($)</th>\n",
       "    </tr>\n",
       "  </thead>\n",
       "  <tbody>\n",
       "    <tr>\n",
       "      <th>0</th>\n",
       "      <td>Anan</td>\n",
       "      <td>20</td>\n",
       "      <td>HIGH</td>\n",
       "      <td>True</td>\n",
       "      <td>False</td>\n",
       "      <td>100</td>\n",
       "    </tr>\n",
       "    <tr>\n",
       "      <th>1</th>\n",
       "      <td>Jamal</td>\n",
       "      <td>25</td>\n",
       "      <td>LOW</td>\n",
       "      <td>False</td>\n",
       "      <td>False</td>\n",
       "      <td>2000</td>\n",
       "    </tr>\n",
       "    <tr>\n",
       "      <th>2</th>\n",
       "      <td>Damal</td>\n",
       "      <td>30</td>\n",
       "      <td>HIGH</td>\n",
       "      <td>False</td>\n",
       "      <td>True</td>\n",
       "      <td>10</td>\n",
       "    </tr>\n",
       "    <tr>\n",
       "      <th>3</th>\n",
       "      <td>Pamal</td>\n",
       "      <td>40</td>\n",
       "      <td>MODERATE</td>\n",
       "      <td>False</td>\n",
       "      <td>False</td>\n",
       "      <td>0</td>\n",
       "    </tr>\n",
       "    <tr>\n",
       "      <th>4</th>\n",
       "      <td>Somal</td>\n",
       "      <td>50</td>\n",
       "      <td>MODERATE</td>\n",
       "      <td>False</td>\n",
       "      <td>False</td>\n",
       "      <td>300</td>\n",
       "    </tr>\n",
       "  </tbody>\n",
       "</table>\n",
       "</div>"
      ],
      "text/plain": [
       "    Name  Age    Income  IsStudent    Buy  Salary($)\n",
       "0   Anan   20      HIGH       True  False        100\n",
       "1  Jamal   25       LOW      False  False       2000\n",
       "2  Damal   30      HIGH      False   True         10\n",
       "3  Pamal   40  MODERATE      False  False          0\n",
       "4  Somal   50  MODERATE      False  False        300"
      ]
     },
     "execution_count": 95,
     "metadata": {},
     "output_type": "execute_result"
    }
   ],
   "source": [
    "df.head()"
   ]
  },
  {
   "cell_type": "code",
   "execution_count": 96,
   "id": "31088fef-5ec7-44a6-aad2-c4a4fff71fd5",
   "metadata": {},
   "outputs": [
    {
     "name": "stdout",
     "output_type": "stream",
     "text": [
      "    Name  Age    Income  IsStudent    Buy  Salary($)\n",
      "1  Jamal   25       LOW      False  False       2000\n",
      "2  Damal   30      HIGH      False   True         10\n",
      "3  Pamal   40  MODERATE      False  False          0\n",
      "4  Somal   50  MODERATE      False  False        300\n",
      "5  Tomal   60       LOW      False  False         40\n",
      "6  Zomal   15      HIGH       True   True       3000\n"
     ]
    }
   ],
   "source": [
    "df.drop(0, axis = 0, inplace = True) # row deletion without index rearranging\n",
    "print(df)"
   ]
  },
  {
   "cell_type": "code",
   "execution_count": 102,
   "id": "be6e489f-d1c8-46c6-a732-8dfa563b166e",
   "metadata": {},
   "outputs": [
    {
     "name": "stdout",
     "output_type": "stream",
     "text": [
      "Column 'salary($)' not found in the DataFrame.\n",
      "    Name  Age    Income  IsStudent    Buy  Salary($)\n",
      "1  Jamal   25       LOW      False  False       2000\n",
      "2  Damal   30      HIGH      False   True         10\n",
      "3  Pamal   40  MODERATE      False  False          0\n",
      "4  Somal   50  MODERATE      False  False        300\n",
      "5  Tomal   60       LOW      False  False         40\n",
      "6  Zomal   15      HIGH       True   True       3000\n"
     ]
    }
   ],
   "source": [
    "try:\n",
    "    df.drop(\"salary($)\", axis=1, inplace=True)\n",
    "except KeyError:\n",
    "    print(\"Column 'salary($)' not found in the DataFrame.\")\n",
    "finally:\n",
    "    print(df)"
   ]
  },
  {
   "cell_type": "code",
   "execution_count": null,
   "id": "4a90112f-8416-4fac-b09d-5f25b07afd11",
   "metadata": {},
   "outputs": [],
   "source": [
    "df.to_csv(\"mydata.csv\")"
   ]
  },
  {
   "cell_type": "code",
   "execution_count": 108,
   "id": "6c12b59e-a133-4aac-901e-ffe9da0b045f",
   "metadata": {},
   "outputs": [
    {
     "name": "stdout",
     "output_type": "stream",
     "text": [
      "   Unnamed: 0   Name  Age    Income  IsStudent    Buy  Salary($)\n",
      "0           1  Jamal   25       LOW      False  False       2000\n",
      "1           2  Damal   30      HIGH      False   True         10\n",
      "2           3  Pamal   40  MODERATE      False  False          0\n",
      "3           4  Somal   50  MODERATE      False  False        300\n",
      "4           5  Tomal   60       LOW      False  False         40\n",
      "5           6  Zomal   15      HIGH       True   True       3000\n",
      "(6, 7)\n"
     ]
    }
   ],
   "source": [
    "df1 = pd.read_csv(\"mydata.csv\")\n",
    "print(df1)\n",
    "print(df1.shape)"
   ]
  },
  {
   "cell_type": "markdown",
   "id": "bd4b9dd5-661d-49c2-b545-bd49fc06668b",
   "metadata": {},
   "source": [
    "# Plotting"
   ]
  },
  {
   "cell_type": "code",
   "execution_count": 110,
   "id": "90ef095f-a70d-49d6-9586-0c654dea0e16",
   "metadata": {},
   "outputs": [],
   "source": [
    "import matplotlib.pyplot as plt\n"
   ]
  },
  {
   "cell_type": "code",
   "execution_count": 112,
   "id": "85556a73-18e9-4f97-951c-5afd37586b4b",
   "metadata": {},
   "outputs": [
    {
     "data": {
      "image/png": "[encoded data removed]",
      "text/plain": [
       "<Figure size 640x480 with 1 Axes>"
      ]
     },
     "metadata": {},
     "output_type": "display_data"
    }
   ],
   "source": [
    "df.plot(x=\"Name\", y=\"Age\", kind=\"bar\")\n",
    "plt.show()"
   ]
  },
  {
   "cell_type": "code",
   "execution_count": null,
   "id": "faf9c67b-9b1b-4f6d-a443-b53394174988",
   "metadata": {},
   "outputs": [],
   "source": [
    "# df[\"Name\"].value_count"
   ]
  },
  {
   "cell_type": "code",
   "execution_count": null,
   "id": "8883d116-78a4-4e3a-9e94-1082585a34f5",
   "metadata": {},
   "outputs": [],
   "source": []
  }
 ],
 "metadata": {
  "kernelspec": {
   "display_name": "Python 3 (ipykernel)",
   "language": "python",
   "name": "python3"
  },
  "language_info": {
   "codemirror_mode": {
    "name": "ipython",
    "version": 3
   },
   "file_extension": ".py",
   "mimetype": "text/x-python",
   "name": "python",
   "nbconvert_exporter": "python",
   "pygments_lexer": "ipython3",
   "version": "3.10.0"
  }
 },
 "nbformat": 4,
 "nbformat_minor": 5
}
